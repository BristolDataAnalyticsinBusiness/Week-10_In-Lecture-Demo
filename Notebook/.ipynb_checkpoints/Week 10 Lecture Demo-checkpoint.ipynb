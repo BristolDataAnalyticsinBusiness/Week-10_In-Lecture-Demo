{
 "cells": [
  {
   "cell_type": "markdown",
   "id": "8d254385-5d41-4f86-84bf-0b9e2bdad3ad",
   "metadata": {},
   "source": [
    "# Week 10 Classification Lecture Demo\n",
    "\n",
    "This notebook contains an example demonstrate the method of logistics regression. Two datasets for the demonstration are available in the `data` folder of this repo. We will continue to use the `statsmodel` and `scikit-learn` libraries for the analysis. "
   ]
  },
  {
   "cell_type": "markdown",
   "id": "2783d47e-f5d2-4f1c-8250-2c9ac1e0c7fe",
   "metadata": {},
   "source": [
    "## Example-Logistics Regression\n",
    "\n",
    "**Case Background**\n",
    "\n",
    "The `Lasagna Triers Logistic Regression.csv` file contains data on 856 people who have either tried or not tried a company’s new frozen lasagna product. The categorical dependent variable, Have Tried, and several of the potential explanatory variables contain text. Using the numeric variables, including dummies, how well is logistic regression able to classify the triers and nontriers?\n",
    "\n",
    "Therefore, the objective of this case is to use logistic regression to classify users as triers or nontriers, and to interpret the resulting output. \n",
    "\n",
    "<center><img src=\"../Image/lasana.jpg\" width=400 height=400 /></center>"
   ]
  },
  {
   "cell_type": "code",
   "execution_count": null,
   "id": "cde8e10d-1f17-462a-ac6a-cc6e7694051a",
   "metadata": {},
   "outputs": [],
   "source": [
    "#Importing the libraries we need to use\n",
    "\n",
    "import pandas as pd\n",
    "import statsmodels.formula.api as smf\n",
    "import numpy as np\n",
    "\n",
    "#Importing the dataset as new dataframe and overview the head of datasframe\n",
    "df_lasagna = pd.read_csv('../data/Lasagna Triers Logistic Regression.csv')\n",
    "df_lasagna.head()"
   ]
  },
  {
   "cell_type": "code",
   "execution_count": null,
   "id": "7c54a6a8-3b8f-4be3-bfb8-cb64b49ec6e9",
   "metadata": {},
   "outputs": [],
   "source": [
    "#Recalling the skills we have learned in renaming the variables\n",
    "#Variable names with space should be renamed for the analysis in statsmodel\n",
    "\n",
    "df_lasagna = df_lasagna.rename(columns={'Pay Type':'Pay_Type', 'Live Alone':'Live_Alone',\n",
    "                                        'Dwell Type':'Dwell_Type','Have Tried':'Have_Tried',\n",
    "                                        'Car Value':'Car_Value','CC Debt':'CC_Debt','Mall Trips':'Mall_Trips'})\n",
    "\n",
    "#Creating multiple dummy variables in the dataframe - df_lasagna and overview the head of dataframe again\n",
    "\n",
    "df_lasagna = pd.get_dummies(df_lasagna, columns=['Pay_Type','Gender','Live_Alone','Dwell_Type','Have_Tried'])\n",
    "df_lasagna.head()"
   ]
  },
  {
   "cell_type": "code",
   "execution_count": null,
   "id": "52c623f0-9cb3-4d17-81dc-cc458af14bc8",
   "metadata": {},
   "outputs": [],
   "source": [
    "#Introducing a different way to form the statsmodel syntax\n",
    "our_formula = 'Have_Tried_Yes ~ Age + Weight + Income \\\n",
    "            + Car_Value + CC_Debt + Mall_Trips \\\n",
    "           + Pay_Type_Salaried + Gender_Male \\\n",
    "           + Live_Alone_Yes + Dwell_Type_Condo + Dwell_Type_Home'\n",
    "logitfit = smf.logit(formula=str(our_formula), data=df_lasagna).fit()\n",
    "print(logitfit.summary())"
   ]
  },
  {
   "cell_type": "code",
   "execution_count": null,
   "id": "b6e69dc6-11f0-4050-b997-3e4b6f8fdc24",
   "metadata": {},
   "outputs": [],
   "source": [
    "#Using summary2 to avoid scientific nottation in the outputs\n",
    "print(logitfit.summary2())"
   ]
  },
  {
   "cell_type": "code",
   "execution_count": null,
   "id": "16095c3d-94be-4ce2-ba7e-ce3fb21d5fc5",
   "metadata": {},
   "outputs": [],
   "source": [
    "#The purpose of this step is to obtain an odd ratio for better interpretation\n",
    "\n",
    "model_odds = pd.DataFrame(np.exp(logitfit.params), columns= ['OR'])\n",
    "model_odds"
   ]
  },
  {
   "cell_type": "code",
   "execution_count": null,
   "id": "cfdefcb8-b775-4927-bc4b-c7168c15ca65",
   "metadata": {},
   "outputs": [],
   "source": [
    "#Creating a classification matrix to check the correctness of our model\n",
    "logitfit.pred_table()"
   ]
  },
  {
   "cell_type": "code",
   "execution_count": null,
   "id": "9a8a41e1-9abe-4179-b335-aef586d57300",
   "metadata": {},
   "outputs": [],
   "source": [
    "#Ok, this remind me the total number of the observations in this dataframe\n",
    "df_lasagna.shape[0]"
   ]
  },
  {
   "cell_type": "markdown",
   "id": "6770a60a-76fc-4d17-bd2b-c8e29a8226cd",
   "metadata": {},
   "source": [
    "### Explaination of the above matrix\n",
    "\n",
    "In the upper-lef corner, we can see that 280 of our observations are true negative; these observations have actual and predicted values of 0 on the outcome. 81 are the observations that our model did not classify correctly. Bottom right corner, we have 422 true positive; theses observations have actual and predicted values of 1 on the outomces. More specifically, 422 of the 495 triers, or 85.25% are classified correctly as triers.\n",
    "\n",
    "Thus our model correctly classified 702 of 856 (see the above cell to quickly check the total number of observations). Thus, our model can predict 82.01% (702/856) of the correct classifications."
   ]
  },
  {
   "cell_type": "code",
   "execution_count": null,
   "id": "6a3cc938-c5d0-4383-bee1-6a028a5689cc",
   "metadata": {},
   "outputs": [],
   "source": [
    "#In sample prediction\n",
    "predict = logitfit.predict(df_lasagna)\n",
    "\n",
    "#Creating a new variables of the model prediction in the original dataframe\n",
    "#The Prediction variable tells the probability of the observation classify as Trier\n",
    "\n",
    "df_lasagna['Prediction'] = predict\n",
    "df_lasagna.head()\n"
   ]
  },
  {
   "cell_type": "code",
   "execution_count": null,
   "id": "7130d925-f396-40ed-ad6a-6575a1dcfafa",
   "metadata": {},
   "outputs": [],
   "source": [
    "# If this probability (i.e. the prediction value) is greater than 0.5, the person is classified as a trier; \n",
    "# If it is less than 0.5, the person isclassified as a nontrier. \n",
    "# Using the below codes to create a new data frame for demonstration\n",
    "\n",
    "def case(row):\n",
    "    if row['Prediction'] > 0.5:\n",
    "        val = 1\n",
    "    else:\n",
    "        val = 0\n",
    "    return val\n",
    "\n",
    "df_lasagna['Analysis_Case'] = df_lasagna.apply(case, axis='columns')\n",
    "df_lasagna.head()"
   ]
  },
  {
   "cell_type": "code",
   "execution_count": null,
   "id": "469b7ac1-4f6b-45a7-8635-1ca06db4ce66",
   "metadata": {},
   "outputs": [],
   "source": [
    "#For clearer presentation, we can create a new dataframe only involved the actual case and predictions fro investigation\n",
    "\n",
    "df_lasgana_classification = df_lasagna[['Have_Tried_Yes','Prediction','Analysis_Case']].copy()\n",
    "df_lasgana_classification"
   ]
  },
  {
   "cell_type": "markdown",
   "id": "f18e6958-df93-40dc-8598-4be38cafe287",
   "metadata": {},
   "source": [
    "## What can we do next?\n",
    "\n",
    "Explanatory values for new people, those whose trier status is unknown, could be fed into the logistic regression equation to score them (probabilities). Then perhaps some incentives could be sent to the top scorers (or the middle scorers) to increase their chances of trying the product. The point is that logistic regression is then being used as a tool to identify the people most likely to be triers.\n",
    "\n",
    "To demonstrate this step, we can use a new dataset (or we called it as testing set) to make the prediction. The file name of the testing set is `New_Customers.csv`."
   ]
  },
  {
   "cell_type": "code",
   "execution_count": null,
   "id": "34b57ca2-1bc3-466f-b1a9-ff77738e5ad9",
   "metadata": {},
   "outputs": [],
   "source": [
    "df_testing = pd.read_csv('../data/New_Customers.csv')\n",
    "df_testing.head()"
   ]
  },
  {
   "cell_type": "code",
   "execution_count": null,
   "id": "d8b04965-bb59-46f8-bc3c-d462423634de",
   "metadata": {},
   "outputs": [],
   "source": [
    "df_testing = df_testing.rename(columns={'Pay Type':'Pay_Type', 'Live Alone':'Live_Alone',\n",
    "                                        'Dwell Type':'Dwell_Type','Have Tried':'Have_Tried',\n",
    "                                        'Car Value':'Car_Value','CC Debt':'CC_Debt','Mall Trips':'Mall_Trips'})\n",
    "\n",
    "df_testing = pd.get_dummies(df_testing, columns=['Pay_Type','Gender','Live_Alone','Dwell_Type'])\n",
    "df_testing.head()"
   ]
  },
  {
   "cell_type": "code",
   "execution_count": null,
   "id": "0ce9cdcc-10c5-4088-b100-866c4a608a91",
   "metadata": {},
   "outputs": [],
   "source": [
    "#Applyting our trained model logitfit for the testing dataset to make the prediction on the newly collected data\n",
    "new_predict = logitfit.predict(df_testing)\n",
    "df_testing['Prediction'] = predict\n",
    "df_testing.head()\n",
    "\n",
    "def case(row):\n",
    "    if row['Prediction'] > 0.5:\n",
    "        val = 1\n",
    "    else:\n",
    "        val = 0\n",
    "    return val\n",
    "\n",
    "df_testing['Analysis_Case'] = df_testing.apply(case, axis='columns')\n",
    "df_testing.head()"
   ]
  },
  {
   "cell_type": "markdown",
   "id": "9c4f9e4c-76b3-4460-906d-6d964f562af5",
   "metadata": {},
   "source": [
    "### Explaination of the above code\n",
    "\n",
    "We simply replicate the process in the previous step to make sure the variable names are consistent with the model speficiation. `logitfit` is the trained model name we specified based on the Lasagna Trier data. The difference here is that there is the trier status of the customer in `New_Customer.csv` is unknown and we use the model we specified `Logitfit` to make the prediction about the classification of each new observations."
   ]
  }
 ],
 "metadata": {
  "kernelspec": {
   "display_name": "Python 3 (ipykernel)",
   "language": "python",
   "name": "python3"
  },
  "language_info": {
   "codemirror_mode": {
    "name": "ipython",
    "version": 3
   },
   "file_extension": ".py",
   "mimetype": "text/x-python",
   "name": "python",
   "nbconvert_exporter": "python",
   "pygments_lexer": "ipython3",
   "version": "3.9.8"
  }
 },
 "nbformat": 4,
 "nbformat_minor": 5
}
